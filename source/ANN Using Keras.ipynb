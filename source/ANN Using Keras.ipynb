{
 "cells": [
  {
   "cell_type": "markdown",
   "metadata": {},
   "source": [
    "https://stackabuse.com/time-series-analysis-with-lstm-using-pythons-keras-library/"
   ]
  },
  {
   "cell_type": "code",
   "execution_count": 9,
   "metadata": {},
   "outputs": [],
   "source": [
    "import numpy as np\n",
    "import matplotlib.pyplot as plt\n",
    "import pandas as pd \n",
    "train = pd.read_csv(\"../Data/Train_data_Update.csv\", index_col = \"Start_date\")"
   ]
  },
  {
   "cell_type": "code",
   "execution_count": 5,
   "metadata": {},
   "outputs": [
    {
     "data": {
      "text/html": [
       "<div>\n",
       "<style scoped>\n",
       "    .dataframe tbody tr th:only-of-type {\n",
       "        vertical-align: middle;\n",
       "    }\n",
       "\n",
       "    .dataframe tbody tr th {\n",
       "        vertical-align: top;\n",
       "    }\n",
       "\n",
       "    .dataframe thead th {\n",
       "        text-align: right;\n",
       "    }\n",
       "</style>\n",
       "<table border=\"1\" class=\"dataframe\">\n",
       "  <thead>\n",
       "    <tr style=\"text-align: right;\">\n",
       "      <th></th>\n",
       "      <th>Year</th>\n",
       "      <th>Count</th>\n",
       "      <th>Days_Open</th>\n",
       "      <th>Avg_Count</th>\n",
       "      <th>News_Count</th>\n",
       "      <th>Vis_change_rate</th>\n",
       "      <th>big_data_newsCount</th>\n",
       "      <th>prev_count</th>\n",
       "      <th>mid_count</th>\n",
       "      <th>after_count</th>\n",
       "      <th>WeekDay</th>\n",
       "      <th>Avg_Tmp</th>\n",
       "      <th>High_Tmp</th>\n",
       "      <th>Low_Tmp</th>\n",
       "      <th>Month</th>\n",
       "      <th>Day</th>\n",
       "    </tr>\n",
       "    <tr>\n",
       "      <th>Start_date</th>\n",
       "      <th></th>\n",
       "      <th></th>\n",
       "      <th></th>\n",
       "      <th></th>\n",
       "      <th></th>\n",
       "      <th></th>\n",
       "      <th></th>\n",
       "      <th></th>\n",
       "      <th></th>\n",
       "      <th></th>\n",
       "      <th></th>\n",
       "      <th></th>\n",
       "      <th></th>\n",
       "      <th></th>\n",
       "      <th></th>\n",
       "      <th></th>\n",
       "    </tr>\n",
       "  </thead>\n",
       "  <tbody>\n",
       "    <tr>\n",
       "      <th>2000-08-11</th>\n",
       "      <td>2000</td>\n",
       "      <td>188046</td>\n",
       "      <td>10</td>\n",
       "      <td>18804.60000</td>\n",
       "      <td>25</td>\n",
       "      <td>0.000000</td>\n",
       "      <td>94</td>\n",
       "      <td>54</td>\n",
       "      <td>26</td>\n",
       "      <td>15</td>\n",
       "      <td>4</td>\n",
       "      <td>26.980000</td>\n",
       "      <td>32.020000</td>\n",
       "      <td>23.360000</td>\n",
       "      <td>8</td>\n",
       "      <td>11</td>\n",
       "    </tr>\n",
       "    <tr>\n",
       "      <th>2001-08-11</th>\n",
       "      <td>2001</td>\n",
       "      <td>245338</td>\n",
       "      <td>10</td>\n",
       "      <td>24533.80000</td>\n",
       "      <td>27</td>\n",
       "      <td>0.233523</td>\n",
       "      <td>82</td>\n",
       "      <td>39</td>\n",
       "      <td>28</td>\n",
       "      <td>16</td>\n",
       "      <td>5</td>\n",
       "      <td>25.950000</td>\n",
       "      <td>30.450000</td>\n",
       "      <td>22.150000</td>\n",
       "      <td>8</td>\n",
       "      <td>11</td>\n",
       "    </tr>\n",
       "    <tr>\n",
       "      <th>2002-08-09</th>\n",
       "      <td>2002</td>\n",
       "      <td>209510</td>\n",
       "      <td>10</td>\n",
       "      <td>20951.00000</td>\n",
       "      <td>31</td>\n",
       "      <td>-0.171009</td>\n",
       "      <td>77</td>\n",
       "      <td>45</td>\n",
       "      <td>20</td>\n",
       "      <td>12</td>\n",
       "      <td>4</td>\n",
       "      <td>22.580000</td>\n",
       "      <td>25.220000</td>\n",
       "      <td>20.850000</td>\n",
       "      <td>8</td>\n",
       "      <td>9</td>\n",
       "    </tr>\n",
       "    <tr>\n",
       "      <th>2003-08-07</th>\n",
       "      <td>2003</td>\n",
       "      <td>151235</td>\n",
       "      <td>11</td>\n",
       "      <td>13748.63636</td>\n",
       "      <td>47</td>\n",
       "      <td>-0.523860</td>\n",
       "      <td>68</td>\n",
       "      <td>27</td>\n",
       "      <td>27</td>\n",
       "      <td>14</td>\n",
       "      <td>3</td>\n",
       "      <td>23.772727</td>\n",
       "      <td>27.700000</td>\n",
       "      <td>20.554545</td>\n",
       "      <td>8</td>\n",
       "      <td>7</td>\n",
       "    </tr>\n",
       "    <tr>\n",
       "      <th>2004-07-31</th>\n",
       "      <td>2004</td>\n",
       "      <td>126596</td>\n",
       "      <td>11</td>\n",
       "      <td>11508.72727</td>\n",
       "      <td>86</td>\n",
       "      <td>-0.194627</td>\n",
       "      <td>96</td>\n",
       "      <td>68</td>\n",
       "      <td>16</td>\n",
       "      <td>12</td>\n",
       "      <td>5</td>\n",
       "      <td>28.227273</td>\n",
       "      <td>33.327273</td>\n",
       "      <td>24.363636</td>\n",
       "      <td>7</td>\n",
       "      <td>31</td>\n",
       "    </tr>\n",
       "  </tbody>\n",
       "</table>\n",
       "</div>"
      ],
      "text/plain": [
       "            Year   Count  Days_Open    Avg_Count  News_Count  Vis_change_rate  \\\n",
       "Start_date                                                                      \n",
       "2000-08-11  2000  188046         10  18804.60000          25         0.000000   \n",
       "2001-08-11  2001  245338         10  24533.80000          27         0.233523   \n",
       "2002-08-09  2002  209510         10  20951.00000          31        -0.171009   \n",
       "2003-08-07  2003  151235         11  13748.63636          47        -0.523860   \n",
       "2004-07-31  2004  126596         11  11508.72727          86        -0.194627   \n",
       "\n",
       "            big_data_newsCount  prev_count  mid_count  after_count  WeekDay  \\\n",
       "Start_date                                                                    \n",
       "2000-08-11                  94          54         26           15        4   \n",
       "2001-08-11                  82          39         28           16        5   \n",
       "2002-08-09                  77          45         20           12        4   \n",
       "2003-08-07                  68          27         27           14        3   \n",
       "2004-07-31                  96          68         16           12        5   \n",
       "\n",
       "              Avg_Tmp   High_Tmp    Low_Tmp  Month  Day  \n",
       "Start_date                                               \n",
       "2000-08-11  26.980000  32.020000  23.360000      8   11  \n",
       "2001-08-11  25.950000  30.450000  22.150000      8   11  \n",
       "2002-08-09  22.580000  25.220000  20.850000      8    9  \n",
       "2003-08-07  23.772727  27.700000  20.554545      8    7  \n",
       "2004-07-31  28.227273  33.327273  24.363636      7   31  "
      ]
     },
     "execution_count": 5,
     "metadata": {},
     "output_type": "execute_result"
    }
   ],
   "source": [
    "df.head()"
   ]
  },
  {
   "cell_type": "code",
   "execution_count": null,
   "metadata": {},
   "outputs": [],
   "source": []
  },
  {
   "cell_type": "markdown",
   "metadata": {},
   "source": [
    "### Data Normalization\n",
    "As a rule of thumb, whenever you use a neural network, you should normalize or scale your data. We will use MinMaxScaler class from the sklear.preprocessing library to scale our data between 0 and 1. The feature_range parameter is used to specify the range of the scaled data. Execute the following script:\n",
    "\n"
   ]
  },
  {
   "cell_type": "code",
   "execution_count": 13,
   "metadata": {},
   "outputs": [],
   "source": [
    "train_processed = train.iloc[:, 1:2].values"
   ]
  },
  {
   "cell_type": "code",
   "execution_count": 15,
   "metadata": {},
   "outputs": [
    {
     "name": "stderr",
     "output_type": "stream",
     "text": [
      "C:\\ProgramData\\Anaconda3\\lib\\site-packages\\sklearn\\utils\\validation.py:595: DataConversionWarning: Data with input dtype int64 was converted to float64 by MinMaxScaler.\n",
      "  warnings.warn(msg, DataConversionWarning)\n"
     ]
    }
   ],
   "source": [
    "from sklearn.preprocessing import MinMaxScaler\n",
    "scaler = MinMaxScaler(feature_range = (0, 1))\n",
    "\n",
    "train_scaled = scaler.fit_transform(train_processed)"
   ]
  },
  {
   "cell_type": "code",
   "execution_count": 19,
   "metadata": {},
   "outputs": [],
   "source": [
    "features_set = []\n",
    "labels = []\n",
    "for i in range(0, 22):\n",
    "    features_set.append(train_scaled[i-0:i, 0])\n",
    "    labels.append(train_scaled[i, 0])"
   ]
  },
  {
   "cell_type": "code",
   "execution_count": 20,
   "metadata": {},
   "outputs": [
    {
     "ename": "AttributeError",
     "evalue": "'list' object has no attribute 'shape'",
     "output_type": "error",
     "traceback": [
      "\u001b[1;31m---------------------------------------------------------------------------\u001b[0m",
      "\u001b[1;31mAttributeError\u001b[0m                            Traceback (most recent call last)",
      "\u001b[1;32m<ipython-input-20-a4e6ccf94951>\u001b[0m in \u001b[0;36m<module>\u001b[1;34m\u001b[0m\n\u001b[1;32m----> 1\u001b[1;33m \u001b[0mfeatures_set\u001b[0m \u001b[1;33m=\u001b[0m \u001b[0mnp\u001b[0m\u001b[1;33m.\u001b[0m\u001b[0mreshape\u001b[0m\u001b[1;33m(\u001b[0m\u001b[0mfeatures_set\u001b[0m\u001b[1;33m,\u001b[0m \u001b[1;33m(\u001b[0m\u001b[0mfeatures_set\u001b[0m\u001b[1;33m.\u001b[0m\u001b[0mshape\u001b[0m\u001b[1;33m[\u001b[0m\u001b[1;36m0\u001b[0m\u001b[1;33m]\u001b[0m\u001b[1;33m,\u001b[0m \u001b[0mfeatures_set\u001b[0m\u001b[1;33m.\u001b[0m\u001b[0mshape\u001b[0m\u001b[1;33m[\u001b[0m\u001b[1;36m1\u001b[0m\u001b[1;33m]\u001b[0m\u001b[1;33m,\u001b[0m \u001b[1;36m1\u001b[0m\u001b[1;33m)\u001b[0m\u001b[1;33m)\u001b[0m\u001b[1;33m\u001b[0m\u001b[1;33m\u001b[0m\u001b[0m\n\u001b[0m",
      "\u001b[1;31mAttributeError\u001b[0m: 'list' object has no attribute 'shape'"
     ]
    }
   ],
   "source": [
    "features_set = np.reshape(features_set, (features_set.shape[0], features_set.shape[1], 1))"
   ]
  },
  {
   "cell_type": "code",
   "execution_count": 21,
   "metadata": {},
   "outputs": [
    {
     "name": "stderr",
     "output_type": "stream",
     "text": [
      "Using TensorFlow backend.\n"
     ]
    }
   ],
   "source": [
    "from keras.models import Sequential\n",
    "from keras.layers import Dense\n",
    "from keras.layers import LSTM\n",
    "from keras.layers import Dropout"
   ]
  },
  {
   "cell_type": "code",
   "execution_count": 22,
   "metadata": {},
   "outputs": [
    {
     "name": "stderr",
     "output_type": "stream",
     "text": [
      "WARNING: Logging before flag parsing goes to stderr.\n",
      "W1028 16:49:54.949718  9188 deprecation_wrapper.py:119] From C:\\ProgramData\\Anaconda3\\lib\\site-packages\\keras\\backend\\tensorflow_backend.py:74: The name tf.get_default_graph is deprecated. Please use tf.compat.v1.get_default_graph instead.\n",
      "\n"
     ]
    }
   ],
   "source": [
    "model = Sequential()\n"
   ]
  }
 ],
 "metadata": {
  "kernelspec": {
   "display_name": "Python 3",
   "language": "python",
   "name": "python3"
  },
  "language_info": {
   "codemirror_mode": {
    "name": "ipython",
    "version": 3
   },
   "file_extension": ".py",
   "mimetype": "text/x-python",
   "name": "python",
   "nbconvert_exporter": "python",
   "pygments_lexer": "ipython3",
   "version": "3.7.3"
  }
 },
 "nbformat": 4,
 "nbformat_minor": 2
}
